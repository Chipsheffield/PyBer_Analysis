{
 "cells": [
  {
   "cell_type": "code",
   "execution_count": 13,
   "id": "b227dbb2",
   "metadata": {},
   "outputs": [],
   "source": [
    "import matplotlib.pyplot as plt"
   ]
  },
  {
   "cell_type": "code",
   "execution_count": 14,
   "id": "26af1cb7",
   "metadata": {},
   "outputs": [],
   "source": [
    "# Set the x-axis to a list of strings for each month.\n",
    "x_axis = [\"Jan\", \"Feb\", \"Mar\", \"April\", \"May\", \"June\", \"July\", \"Aug\", \"Sept\", \"Oct\", \"Nov\", \"Dec\"]\n",
    "\n",
    "# Set the y-axis to a list of floats as the total fare in US dollars accumulated for each month.\n",
    "y_axis = [10.02, 23.24, 39.20, 35.42, 32.34, 27.04, 43.82, 10.56, 11.85, 27.90, 20.71, 20.09]"
   ]
  },
  {
   "cell_type": "code",
   "execution_count": 15,
   "id": "b6220b0b",
   "metadata": {},
   "outputs": [
    {
     "data": {
      "text/plain": [
       "[<matplotlib.lines.Line2D at 0x1b1b67627f0>]"
      ]
     },
     "execution_count": 15,
     "metadata": {},
     "output_type": "execute_result"
    },
    {
     "data": {
      "image/png": "[encoded data removed]",
      "text/plain": [
       "<Figure size 432x288 with 1 Axes>"
      ]
     },
     "metadata": {
      "needs_background": "light"
     },
     "output_type": "display_data"
    }
   ],
   "source": [
    "plt.plot(x_axis, y_axis, 'o')"
   ]
  },
  {
   "cell_type": "code",
   "execution_count": 16,
   "id": "9754e845",
   "metadata": {},
   "outputs": [
    {
     "name": "stdout",
     "output_type": "stream",
     "text": [
      "      calories  duration\n",
      "day1       420        50\n",
      "day2       380        40\n",
      "day3       390        45\n"
     ]
    },
    {
     "data": {
      "text/html": [
       "<div>\n",
       "<style scoped>\n",
       "    .dataframe tbody tr th:only-of-type {\n",
       "        vertical-align: middle;\n",
       "    }\n",
       "\n",
       "    .dataframe tbody tr th {\n",
       "        vertical-align: top;\n",
       "    }\n",
       "\n",
       "    .dataframe thead th {\n",
       "        text-align: right;\n",
       "    }\n",
       "</style>\n",
       "<table border=\"1\" class=\"dataframe\">\n",
       "  <thead>\n",
       "    <tr style=\"text-align: right;\">\n",
       "      <th></th>\n",
       "      <th>Type</th>\n",
       "    </tr>\n",
       "  </thead>\n",
       "  <tbody>\n",
       "    <tr>\n",
       "      <th>0</th>\n",
       "      <td>Rural</td>\n",
       "    </tr>\n",
       "    <tr>\n",
       "      <th>1</th>\n",
       "      <td>Suburban</td>\n",
       "    </tr>\n",
       "    <tr>\n",
       "      <th>2</th>\n",
       "      <td>Urban</td>\n",
       "    </tr>\n",
       "  </tbody>\n",
       "</table>\n",
       "</div>"
      ],
      "text/plain": [
       "       Type\n",
       "0     Rural\n",
       "1  Suburban\n",
       "2     Urban"
      ]
     },
     "execution_count": 16,
     "metadata": {},
     "output_type": "execute_result"
    }
   ],
   "source": [
    "\n",
    "\n",
    "import pandas as pd\n",
    "\n",
    "data = {\n",
    "  \"calories\": [420, 380, 390],\n",
    "  \"duration\": [50, 40, 45]\n",
    "}\n",
    "\n",
    "df = pd.DataFrame(data, index =[\"day1\", \"day2\", \"day3\"])\n",
    "\n",
    "print(df)\n",
    "\n",
    "\n",
    "datanext = {\"Type\":[\"Rural\",\"Suburban\",\"Urban\"] }\n",
    "\n",
    "df_summary_df=pd.DataFrame(datanext)\n",
    "\n",
    "#pyber_summary_df= pd.DataFrame(\"Type\")\n",
    "\n",
    "df_summary_df"
   ]
  },
  {
   "cell_type": "code",
   "execution_count": 18,
   "id": "a472e2ce",
   "metadata": {},
   "outputs": [
    {
     "ename": "SyntaxError",
     "evalue": "invalid syntax (660994462.py, line 18)",
     "output_type": "error",
     "traceback": [
      "\u001b[1;36m  Input \u001b[1;32mIn [18]\u001b[1;36m\u001b[0m\n\u001b[1;33m    import pandas as pd\u001b[0m\n\u001b[1;37m    ^\u001b[0m\n\u001b[1;31mSyntaxError\u001b[0m\u001b[1;31m:\u001b[0m invalid syntax\n"
     ]
    }
   ],
   "source": [
    "\n",
    "import pandas as pd\n",
    "\n",
    "data_test={\n",
    "    \"Type\":[\"Rural\",\"Suburan\",\"Urban\"],\n",
    "    \"Total Rides\":[125, 625, 1625],\n",
    "    \"Total Drivers\":[78, 490, 2405],\n",
    "    \"Total Fares\":[4327.93, 19356.33, 39854.38],\n",
    "    \"Average Fare per Ride\":[34.623440, 30.970128, 24.525772],\n",
    "    \"Average Fare per Driver\":[55.486282, 39.502714, 16.571468]\n",
    "}\n",
    "\n",
    "dff=pd.DataFrame(data_test, index[#  6. Create a PyBer summary DataFrame. \n",
    "#PyBer_summary_data=pd.DataFrame({\"Total Rides\":total_rides, \"Total Drivers\":Total_drivers_Type}) ,\"Total Drivers\": total_driver_count_sum \n",
    "#pyber_summary_data=pd.DataFrame({\"Total Rides\":ride_id_count,\"Total Drivers\":total_driver_count_sum})\n",
    "#pyber_summary_data=pd.DataFrame(columns=['Total Rides','Total Drivers','Total Fares'])\n",
    "#pyber_summary_data=pd.DataFrame({\"Total Rides\":ride_id_count,\"Total Drivers\":total_driver_count_sum})\n",
    "\n",
    "import pandas as pd\n",
    "\n",
    "#data = {\n",
    "  \"calories\": [420, 380, 390],\n",
    "  \"duration\": [50, 40, 45]\n",
    "}\n",
    "\n",
    "dff= pd.DataFrame(data_test)\n",
    "\n",
    "print(dff)\n",
    "\n",
    "\n",
    "#datanext = {\"Type\":[\"Rural\",\"Suburban\",\"Urban\"] }\n",
    "\n",
    "#df_summary_df=pd.DataFrame(datanext)\n",
    "\n",
    "#pyber_summary_df= pd.DataFrame(\"Type\")\n",
    "\n",
    "#df_summary_df])\n",
    "\n",
    "print(dff)"
   ]
  },
  {
   "cell_type": "code",
   "execution_count": null,
   "id": "b2a98f8b",
   "metadata": {},
   "outputs": [],
   "source": [
    "dff=dff.groupby([\"Type\"])\n",
    "\n",
    "print(dff)"
   ]
  },
  {
   "cell_type": "code",
   "execution_count": null,
   "id": "a8bbaca3",
   "metadata": {},
   "outputs": [],
   "source": [
    "#PyBer_summary_data=pd.DataFrame({\"Total Rides\":total_rides, \"Total Drivers\":Total_drivers_Type}) ,\"Total Drivers\": total_driver_count_sum \n",
    "#pyber_summary_data=pd.DataFrame({\"Total Rides\":ride_id_count,\"Total Drivers\":total_driver_count_sum})\n",
    "#pyber_summary_data=pd.DataFrame(columns=['Total Rides','Total Drivers','Total Fares'])\n",
    "#pyber_summary_data=pd.DataFrame({\"Total Rides\":ride_id_count,\"Total Drivers\":total_driver_count_sum})\n",
    "\n",
    "import pandas as pd\n",
    "\n",
    "data = {\n",
    "  \"calories\": [420, 380, 390],\n",
    "  \"duration\": [50, 40, 45]\n",
    "}\n",
    "\n",
    "df = pd.DataFrame(data, index =[\"day1\", \"day2\", \"day3\"])\n",
    "\n",
    "print(df)\n",
    "\n",
    "\n",
    "datanext = {\"Type\":[\"Rural\",\"Suburban\",\"Urban\"]\n",
    "           }\n",
    "\n",
    "\n",
    "\n",
    "\n",
    "\n",
    "\n",
    "#datanext_summary_df=pd.DataFrame(datanext)"
   ]
  }
 ],
 "metadata": {
  "kernelspec": {
   "display_name": "PythonData",
   "language": "python",
   "name": "pythondata"
  },
  "language_info": {
   "codemirror_mode": {
    "name": "ipython",
    "version": 3
   },
   "file_extension": ".py",
   "mimetype": "text/x-python",
   "name": "python",
   "nbconvert_exporter": "python",
   "pygments_lexer": "ipython3",
   "version": "3.9.12"
  }
 },
 "nbformat": 4,
 "nbformat_minor": 5
}
